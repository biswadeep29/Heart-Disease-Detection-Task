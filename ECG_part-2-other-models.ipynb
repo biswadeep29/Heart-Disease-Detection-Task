{
 "cells": [
  {
   "cell_type": "code",
   "execution_count": 1,
   "id": "26e3c680-1f16-44e8-bfa4-cad1785bc273",
   "metadata": {},
   "outputs": [],
   "source": [
    "import wfdb\n",
    "import pywt\n",
    "import matplotlib.pyplot as plt\n",
    "import numpy as np\n",
    "import os\n",
    "import shutil\n",
    "import random\n",
    "from PIL import Image\n",
    "import tensorflow as tf\n",
    "from tensorflow.keras.preprocessing.image import ImageDataGenerator\n",
    "from tensorflow.keras.applications import ResNet101\n",
    "from tensorflow.keras.applications import Xception, DenseNet121, EfficientNetB0\n",
    "from tensorflow.keras.models import Model\n",
    "from tensorflow.keras.layers import GlobalAveragePooling2D\n",
    "from tensorflow.keras.layers import Dense, Flatten\n",
    "from tensorflow.keras.optimizers import Adam\n",
    "from tensorflow.keras.preprocessing import image\n",
    "from tensorflow.keras.models import load_model\n",
    "from tensorflow.keras import Input\n",
    "from tensorflow.keras.layers import Conv2D, MaxPool2D, Dense, Flatten, BatchNormalization, Dropout\n",
    "from tensorflow.keras import layers, regularizers"
   ]
  },
  {
   "cell_type": "code",
   "execution_count": null,
   "id": "58bd2d3d-2b20-409a-935b-54ae1cbbbfee",
   "metadata": {},
   "outputs": [],
   "source": [
    "def generate_scalogram(signal, filename):\n",
    "    scales = np.arange(1, 128)\n",
    "    coef, _ = pywt.cwt(signal, scales, 'morl')\n",
    "    plt.imshow(coef, cmap='jet', aspect='auto')\n",
    "    plt.axis('off')\n",
    "    plt.savefig(filename, bbox_inches='tight', pad_inches=0)\n",
    "    plt.close()"
   ]
  },
  {
   "cell_type": "code",
   "execution_count": 2,
   "id": "bbc26fd7-29cb-4045-8e66-88dd540eaffb",
   "metadata": {},
   "outputs": [
    {
     "name": "stdout",
     "output_type": "stream",
     "text": [
      "Found 5200 images belonging to 5 classes.\n",
      "Found 1300 images belonging to 5 classes.\n"
     ]
    }
   ],
   "source": [
    "datagen = ImageDataGenerator(\n",
    "    rescale=1./255,\n",
    "    validation_split=0.2  # 80% train, 20% validation\n",
    ")\n",
    "\n",
    "train_gen = datagen.flow_from_directory(\n",
    "    './cwt_images',\n",
    "    target_size=(128, 128),\n",
    "    batch_size=32,\n",
    "    class_mode='categorical',  # Use 'categorical' for 3+ classes\n",
    "    subset='training'\n",
    ")\n",
    "\n",
    "val_gen = datagen.flow_from_directory(\n",
    "    './cwt_images',\n",
    "    target_size=(128, 128),\n",
    "    batch_size=32,\n",
    "    class_mode='categorical',\n",
    "    subset='validation'\n",
    ")"
   ]
  },
  {
   "cell_type": "code",
   "execution_count": 3,
   "id": "61d01835-7f16-427e-8a60-d9c236e5284b",
   "metadata": {},
   "outputs": [],
   "source": [
    "model1 = Xception(weights='imagenet', include_top=False, input_shape=(128, 128, 3))\n",
    "model1.trainable = False\n",
    "\n",
    "model2 = DenseNet121(weights='imagenet', include_top=False, input_shape=(128, 128, 3))\n",
    "model2.trainable = False\n",
    "\n",
    "model3 = EfficientNetB0(weights='imagenet', include_top=False, input_shape=(128, 128, 3))\n",
    "model3.trainable = False"
   ]
  },
  {
   "cell_type": "code",
   "execution_count": null,
   "id": "dbe99910-fc0a-4c5e-8545-4ce1b5afcbb8",
   "metadata": {},
   "outputs": [],
   "source": [
    "x = model1.output\n",
    "x = GlobalAveragePooling2D()(x)\n",
    "x = Dense(64, activation='relu')(x)\n",
    "output = Dense(5, activation='softmax')(x) \n",
    "\n",
    "model1 = Model(inputs=model1.input, outputs=output)\n",
    "model1.compile(optimizer=Adam(1e-4), loss='categorical_crossentropy', metrics=['accuracy'])"
   ]
  },
  {
   "cell_type": "code",
   "execution_count": null,
   "id": "871ab423-35dd-4439-8593-ecc6472f4894",
   "metadata": {},
   "outputs": [],
   "source": [
    "x = model2.output\n",
    "x = GlobalAveragePooling2D()(x)\n",
    "x = Dense(64, activation='relu')(x)\n",
    "output = Dense(5, activation='softmax')(x) \n",
    "\n",
    "model2 = Model(inputs=model2.input, outputs=output)\n",
    "model2.compile(optimizer=Adam(1e-4), loss='categorical_crossentropy', metrics=['accuracy'])"
   ]
  },
  {
   "cell_type": "code",
   "execution_count": 4,
   "id": "729c0596-acc1-4d71-b040-aa140c93bfbf",
   "metadata": {},
   "outputs": [],
   "source": [
    "x = model3.output\n",
    "x = GlobalAveragePooling2D()(x)\n",
    "x = Dense(64, activation='relu')(x)\n",
    "output = Dense(5, activation='softmax')(x) \n",
    "\n",
    "model3 = Model(inputs=model3.input, outputs=output)\n",
    "model3.compile(optimizer=Adam(1e-4), loss='categorical_crossentropy', metrics=['accuracy'])"
   ]
  },
  {
   "cell_type": "code",
   "execution_count": null,
   "id": "96d914c2-2993-4500-860e-e987a12562c2",
   "metadata": {},
   "outputs": [],
   "source": [
    "history1 = model1.fit(train_gen, validation_data=val_gen, epochs=10)\n",
    "model.save('ecg_model_xception_epochs-10.h5')"
   ]
  },
  {
   "cell_type": "code",
   "execution_count": null,
   "id": "cddadae8-acb7-4778-bec8-a6b9a2ead2ef",
   "metadata": {},
   "outputs": [],
   "source": [
    "model1.save('ecg_model_xception_epochs-10.h5')"
   ]
  },
  {
   "cell_type": "code",
   "execution_count": null,
   "id": "2b7fd59e-9d23-4202-9cfb-593f951471e8",
   "metadata": {},
   "outputs": [],
   "source": [
    "loss, accuracy = model1.evaluate(val_gen)\n",
    "print(f\"Test Accuracy: {accuracy*100:.2f}%\")"
   ]
  },
  {
   "cell_type": "code",
   "execution_count": null,
   "id": "52d00e45-8ea3-4cb9-8398-bf0a47c76c6d",
   "metadata": {},
   "outputs": [],
   "source": [
    "plt.figure(figsize=(8, 4))\n",
    "plt.subplot(1, 2, 1)\n",
    "plt.plot(history1.history['accuracy'], label='Train Accuracy', marker='o')\n",
    "plt.plot(history1.history['val_accuracy'], label='Val Accuracy', marker='o')\n",
    "plt.title('Model Accuracy')\n",
    "plt.xlabel('Epoch')\n",
    "plt.ylabel('Accuracy')\n",
    "plt.legend()\n",
    "plt.grid(True)\n",
    "\n",
    "# Loss\n",
    "plt.subplot(1, 2, 2)\n",
    "plt.plot(history1.history['loss'], label='Train Loss', marker='o')\n",
    "plt.plot(history1.history['val_loss'], label='Val Loss', marker='o')\n",
    "plt.title('Model Loss')\n",
    "plt.xlabel('Epoch')\n",
    "plt.ylabel('Loss')\n",
    "plt.legend()\n",
    "plt.grid(True)\n",
    "\n",
    "plt.tight_layout()\n",
    "plt.show()"
   ]
  },
  {
   "cell_type": "code",
   "execution_count": null,
   "id": "c089782c-af7f-4634-a56e-12d9e2077d34",
   "metadata": {},
   "outputs": [],
   "source": [
    "history2 = model2.fit(train_gen, validation_data=val_gen, epochs=10)\n",
    "model2.save('ecg_model_DenseNet121_epochs-10.h5')"
   ]
  },
  {
   "cell_type": "code",
   "execution_count": null,
   "id": "40f3ae70-70c5-4229-8b83-e30a830b0444",
   "metadata": {},
   "outputs": [],
   "source": [
    "loss, accuracy = model2.evaluate(val_gen)\n",
    "print(f\"Test Accuracy: {accuracy*100:.2f}%\")"
   ]
  },
  {
   "cell_type": "code",
   "execution_count": null,
   "id": "54c6d638-6ce6-4f36-a9c6-4689639efbbc",
   "metadata": {},
   "outputs": [],
   "source": [
    "plt.figure(figsize=(8, 4))\n",
    "plt.subplot(1, 2, 1)\n",
    "plt.plot(history2.history['accuracy'], label='Train Accuracy', marker='o')\n",
    "plt.plot(history2.history['val_accuracy'], label='Val Accuracy', marker='o')\n",
    "plt.title('Model Accuracy')\n",
    "plt.xlabel('Epoch')\n",
    "plt.ylabel('Accuracy')\n",
    "plt.legend()\n",
    "plt.grid(True)\n",
    "\n",
    "# Loss\n",
    "plt.subplot(1, 2, 2)\n",
    "plt.plot(history2.history['loss'], label='Train Loss', marker='o')\n",
    "plt.plot(history2.history['val_loss'], label='Val Loss', marker='o')\n",
    "plt.title('Model Loss')\n",
    "plt.xlabel('Epoch')\n",
    "plt.ylabel('Loss')\n",
    "plt.legend()\n",
    "plt.grid(True)\n",
    "\n",
    "plt.tight_layout()\n",
    "plt.show()"
   ]
  },
  {
   "cell_type": "code",
   "execution_count": 5,
   "id": "668a11fb-a08f-4337-bd89-c380b3d468b2",
   "metadata": {},
   "outputs": [
    {
     "name": "stderr",
     "output_type": "stream",
     "text": [
      "C:\\Users\\DELL\\AppData\\Local\\Programs\\Python\\Python312\\Lib\\site-packages\\keras\\src\\trainers\\data_adapters\\py_dataset_adapter.py:121: UserWarning: Your `PyDataset` class should call `super().__init__(**kwargs)` in its constructor. `**kwargs` can include `workers`, `use_multiprocessing`, `max_queue_size`. Do not pass these arguments to `fit()`, as they will be ignored.\n",
      "  self._warn_if_super_not_called()\n"
     ]
    },
    {
     "name": "stdout",
     "output_type": "stream",
     "text": [
      "Epoch 1/10\n",
      "\u001b[1m163/163\u001b[0m \u001b[32m━━━━━━━━━━━━━━━━━━━━\u001b[0m\u001b[37m\u001b[0m \u001b[1m308s\u001b[0m 2s/step - accuracy: 0.2251 - loss: 1.5701 - val_accuracy: 0.2685 - val_loss: 1.5476\n",
      "Epoch 2/10\n",
      "\u001b[1m163/163\u001b[0m \u001b[32m━━━━━━━━━━━━━━━━━━━━\u001b[0m\u001b[37m\u001b[0m \u001b[1m166s\u001b[0m 1s/step - accuracy: 0.2604 - loss: 1.5469 - val_accuracy: 0.2308 - val_loss: 1.5440\n",
      "Epoch 3/10\n",
      "\u001b[1m163/163\u001b[0m \u001b[32m━━━━━━━━━━━━━━━━━━━━\u001b[0m\u001b[37m\u001b[0m \u001b[1m150s\u001b[0m 923ms/step - accuracy: 0.2785 - loss: 1.5456 - val_accuracy: 0.2308 - val_loss: 1.5438\n",
      "Epoch 4/10\n",
      "\u001b[1m163/163\u001b[0m \u001b[32m━━━━━━━━━━━━━━━━━━━━\u001b[0m\u001b[37m\u001b[0m \u001b[1m195s\u001b[0m 1s/step - accuracy: 0.2729 - loss: 1.5375 - val_accuracy: 0.2731 - val_loss: 1.5401\n",
      "Epoch 5/10\n",
      "\u001b[1m163/163\u001b[0m \u001b[32m━━━━━━━━━━━━━━━━━━━━\u001b[0m\u001b[37m\u001b[0m \u001b[1m168s\u001b[0m 1s/step - accuracy: 0.2677 - loss: 1.5348 - val_accuracy: 0.4223 - val_loss: 1.5336\n",
      "Epoch 6/10\n",
      "\u001b[1m163/163\u001b[0m \u001b[32m━━━━━━━━━━━━━━━━━━━━\u001b[0m\u001b[37m\u001b[0m \u001b[1m195s\u001b[0m 1s/step - accuracy: 0.2917 - loss: 1.5348 - val_accuracy: 0.3362 - val_loss: 1.5292\n",
      "Epoch 7/10\n",
      "\u001b[1m163/163\u001b[0m \u001b[32m━━━━━━━━━━━━━━━━━━━━\u001b[0m\u001b[37m\u001b[0m \u001b[1m108s\u001b[0m 664ms/step - accuracy: 0.3094 - loss: 1.5327 - val_accuracy: 0.4331 - val_loss: 1.5238\n",
      "Epoch 8/10\n",
      "\u001b[1m163/163\u001b[0m \u001b[32m━━━━━━━━━━━━━━━━━━━━\u001b[0m\u001b[37m\u001b[0m \u001b[1m220s\u001b[0m 1s/step - accuracy: 0.3333 - loss: 1.5251 - val_accuracy: 0.3954 - val_loss: 1.5188\n",
      "Epoch 9/10\n",
      "\u001b[1m163/163\u001b[0m \u001b[32m━━━━━━━━━━━━━━━━━━━━\u001b[0m\u001b[37m\u001b[0m \u001b[1m186s\u001b[0m 1s/step - accuracy: 0.3662 - loss: 1.5194 - val_accuracy: 0.3946 - val_loss: 1.5127\n",
      "Epoch 10/10\n",
      "\u001b[1m163/163\u001b[0m \u001b[32m━━━━━━━━━━━━━━━━━━━━\u001b[0m\u001b[37m\u001b[0m \u001b[1m167s\u001b[0m 1s/step - accuracy: 0.3422 - loss: 1.5119 - val_accuracy: 0.4208 - val_loss: 1.5073\n"
     ]
    },
    {
     "name": "stderr",
     "output_type": "stream",
     "text": [
      "WARNING:absl:You are saving your model as an HDF5 file via `model.save()` or `keras.saving.save_model(model)`. This file format is considered legacy. We recommend using instead the native Keras format, e.g. `model.save('my_model.keras')` or `keras.saving.save_model(model, 'my_model.keras')`. \n"
     ]
    }
   ],
   "source": [
    "history3 = model3.fit(train_gen, validation_data=val_gen, epochs=10)\n",
    "model3.save('ecg_model_efficientnet_epochs-10.h5')"
   ]
  },
  {
   "cell_type": "code",
   "execution_count": 6,
   "id": "b7b9d91f-d26b-42b5-8da0-69ef8a544099",
   "metadata": {},
   "outputs": [
    {
     "name": "stdout",
     "output_type": "stream",
     "text": [
      "\u001b[1m41/41\u001b[0m \u001b[32m━━━━━━━━━━━━━━━━━━━━\u001b[0m\u001b[37m\u001b[0m \u001b[1m15s\u001b[0m 350ms/step - accuracy: 0.4209 - loss: 1.5122\n",
      "Test Accuracy: 42.08%\n"
     ]
    }
   ],
   "source": [
    "loss, accuracy = model3.evaluate(val_gen)\n",
    "print(f\"Test Accuracy: {accuracy*100:.2f}%\")"
   ]
  },
  {
   "cell_type": "code",
   "execution_count": 7,
   "id": "8d3e2309-dd3d-463a-b18c-11d6f5db668d",
   "metadata": {},
   "outputs": [
    {
     "data": {
      "image/png": "[encoded data removed]",
      "text/plain": [
       "<Figure size 800x400 with 2 Axes>"
      ]
     },
     "metadata": {},
     "output_type": "display_data"
    }
   ],
   "source": [
    "plt.figure(figsize=(8, 4))\n",
    "plt.subplot(1, 2, 1)\n",
    "plt.plot(history3.history['accuracy'], label='Train Accuracy', marker='o')\n",
    "plt.plot(history3.history['val_accuracy'], label='Val Accuracy', marker='o')\n",
    "plt.title('Model Accuracy')\n",
    "plt.xlabel('Epoch')\n",
    "plt.ylabel('Accuracy')\n",
    "plt.legend()\n",
    "plt.grid(True)\n",
    "\n",
    "# Loss\n",
    "plt.subplot(1, 2, 2)\n",
    "plt.plot(history3.history['loss'], label='Train Loss', marker='o')\n",
    "plt.plot(history3.history['val_loss'], label='Val Loss', marker='o')\n",
    "plt.title('Model Loss')\n",
    "plt.xlabel('Epoch')\n",
    "plt.ylabel('Loss')\n",
    "plt.legend()\n",
    "plt.grid(True)\n",
    "\n",
    "plt.tight_layout()\n",
    "plt.show()"
   ]
  },
  {
   "cell_type": "code",
   "execution_count": null,
   "id": "736a5176-f81a-4bf9-a3da-7a7385a6c9d4",
   "metadata": {},
   "outputs": [],
   "source": [
    "def load_user_signal(folder_path, record_name='sample'):\n",
    "    record = wfdb.rdrecord(f\"{folder_path}/{record_name}\")\n",
    "    signal = record.p_signal[:, 0]  # First lead\n",
    "    fs = record.fs\n",
    "    return signal[:2*fs], fs  # First 2 seconds"
   ]
  },
  {
   "cell_type": "code",
   "execution_count": null,
   "id": "79c936ca-f14a-4657-9c9e-8328299583ac",
   "metadata": {},
   "outputs": [],
   "source": [
    "print(train_gen.class_indices)"
   ]
  },
  {
   "cell_type": "code",
   "execution_count": null,
   "id": "e68461eb-028b-4d8e-81d7-161d1e368132",
   "metadata": {},
   "outputs": [],
   "source": [
    "def predict_heart_condition(model_path, img_path):\n",
    "    model = load_model(model_path)\n",
    "    img = image.load_img(img_path, target_size=(128, 128))\n",
    "    img_array = image.img_to_array(img) / 255.0\n",
    "    img_array = np.expand_dims(img_array, axis=0)\n",
    "\n",
    "    prediction = model.predict(img_array)[0]\n",
    "    predicted_class = np.argmax(prediction)\n",
    "    class_labels = ['arrhythmia','artial','malignant', 'normal', 'st-change']\n",
    "    return class_labels[predicted_class]"
   ]
  },
  {
   "cell_type": "code",
   "execution_count": null,
   "id": "2faf6404-6a33-4fd8-8db1-5863bea81a29",
   "metadata": {},
   "outputs": [],
   "source": [
    "signal, fs = load_user_signal('./user/normal','./16786')  # Assuming user_ecg.dat/.hea exists\n",
    "generate_scalogram(signal, 'user_scalogram.png')\n",
    "result = predict_heart_condition('ecg_model_resnet101_epochs-10.h5', 'user_scalogram.png')\n",
    "print(\"Prediction:\", result)"
   ]
  },
  {
   "cell_type": "code",
   "execution_count": null,
   "id": "4c480746-74a5-4909-8dbb-934bccd32233",
   "metadata": {},
   "outputs": [],
   "source": [
    "def complete_pipeline_1(folder_path,record_name,output_path,model_path):\n",
    "    signal, fs = load_user_signal(folder_path,record_name)\n",
    "    generate_scalogram(signal,output_path)\n",
    "    result = predict_heart_condition(model_path,output_path)\n",
    "    print(\"Prediction:\", result)"
   ]
  },
  {
   "cell_type": "code",
   "execution_count": null,
   "id": "eea81e14-879c-47db-94a5-bad1248ee787",
   "metadata": {},
   "outputs": [],
   "source": [
    "def complete_pipeline(folder_path, record_name, true_label):\n",
    "    signal, fs = load_user_signal(folder_path, record_name)\n",
    "    generate_scalogram(signal, 'user_scalogram.png')\n",
    "    predicted_label = predict_heart_condition('ecg_model_resnet101_epochs-10.h5', 'user_scalogram.png')\n",
    "\n",
    "    # Plot signal with predicted and true label in title\n",
    "    time = np.linspace(0, 2, len(signal))  # 2 seconds\n",
    "    plt.figure(figsize=(10, 4))\n",
    "    plt.plot(time, signal, color='black')\n",
    "    plt.title(f\"Predicted: {predicted_label} | True: {true_label}\", fontsize=14)\n",
    "    plt.xlabel(\"Time (s)\")\n",
    "    plt.ylabel(\"Amplitude\")\n",
    "    plt.grid(True)\n",
    "    plt.tight_layout()\n",
    "    plt.show()\n",
    "\n",
    "    print(\"Prediction:\", predicted_label)"
   ]
  },
  {
   "cell_type": "raw",
   "id": "a010f008-52f6-4dbf-8b31-c10d36e614b8",
   "metadata": {},
   "source": [
    "def complete_pipeline(folder_path, record_name, true_label):\n",
    "    signal, fs = load_user_signal(folder_path, record_name)\n",
    "    generate_scalogram(signal, 'user_scalogram.png')\n",
    "    predicted_label = predict_heart_condition('ecg_model_eg10epochs.h5', 'user_scalogram.png')\n",
    "\n",
    "    # Plot signal with predicted and true label in title\n",
    "    time = np.linspace(0, 2, len(signal))  # 2 seconds\n",
    "    plt.figure(figsize=(10, 4))\n",
    "    plt.plot(time, signal, color='black')\n",
    "    plt.title(f\"Predicted: {predicted_label} | True: {true_label}\", fontsize=14)\n",
    "    plt.xlabel(\"Time (s)\")\n",
    "    plt.ylabel(\"Amplitude\")\n",
    "    plt.grid(True)\n",
    "    plt.tight_layout()\n",
    "    plt.show()\n",
    "\n",
    "    print(\"Prediction:\", predicted_label)"
   ]
  },
  {
   "cell_type": "code",
   "execution_count": null,
   "id": "4b42f341-da71-40ff-a7fe-57df6e868360",
   "metadata": {},
   "outputs": [],
   "source": [
    "complete_pipeline('./user/normal','16786',true_label='Normal')"
   ]
  },
  {
   "cell_type": "code",
   "execution_count": null,
   "id": "e443d821-49dd-4248-8c4f-d94d2bd4868c",
   "metadata": {},
   "outputs": [],
   "source": [
    "complete_pipeline('./user/arrhy','215',true_label='Arrhythmia')"
   ]
  },
  {
   "cell_type": "code",
   "execution_count": null,
   "id": "c33cc00d-e726-492a-94e9-25d3aff45a61",
   "metadata": {},
   "outputs": [],
   "source": [
    "complete_pipeline('./user/arrhy','228',true_label='Arrhythmia')"
   ]
  },
  {
   "cell_type": "code",
   "execution_count": null,
   "id": "8dec9886-fb6b-4ff7-9f69-008806d60688",
   "metadata": {},
   "outputs": [],
   "source": [
    "complete_pipeline('./user/normal','19140',true_label='Normal')"
   ]
  },
  {
   "cell_type": "code",
   "execution_count": null,
   "id": "a1c1a672-bfb7-42ef-a17d-ac67f09be6ff",
   "metadata": {},
   "outputs": [],
   "source": [
    "complete_pipeline('./user/normal','16273',true_label='Normal')"
   ]
  },
  {
   "cell_type": "code",
   "execution_count": null,
   "id": "b4e0e0ce-8597-4858-bbe0-4acb2096087f",
   "metadata": {},
   "outputs": [],
   "source": [
    "complete_pipeline('./user/malignant/','418',true_label='malignant')"
   ]
  },
  {
   "cell_type": "code",
   "execution_count": null,
   "id": "c9ef549b-a4f8-4855-a83c-183f9186ec88",
   "metadata": {},
   "outputs": [],
   "source": [
    "complete_pipeline('./user/st/','313',true_label='st-change')"
   ]
  },
  {
   "cell_type": "code",
   "execution_count": null,
   "id": "0c7be981-66d0-4ba2-9a19-4f677d092337",
   "metadata": {},
   "outputs": [],
   "source": [
    "complete_pipeline('./user/st/','314',true_label='st-change')"
   ]
  },
  {
   "cell_type": "code",
   "execution_count": null,
   "id": "eb763155-ca1e-4135-ac42-04ea66528943",
   "metadata": {},
   "outputs": [],
   "source": [
    "complete_pipeline('./user/st/','321',true_label='st-change')"
   ]
  },
  {
   "cell_type": "code",
   "execution_count": null,
   "id": "097a05b1-ddcc-4c31-bb14-2017864b8369",
   "metadata": {},
   "outputs": [],
   "source": [
    "complete_pipeline('./user/st/','322',true_label='st-change')"
   ]
  },
  {
   "cell_type": "code",
   "execution_count": null,
   "id": "229ad406-1e7b-442f-af03-7d2a068c8316",
   "metadata": {},
   "outputs": [],
   "source": [
    "complete_pipeline('./user/malignant/','429',true_label='malignant')"
   ]
  },
  {
   "cell_type": "code",
   "execution_count": null,
   "id": "49e35c52-32b3-4474-b1b7-b84447a721e6",
   "metadata": {},
   "outputs": [],
   "source": [
    "complete_pipeline('./user/malignant/','430',true_label='malignant')"
   ]
  },
  {
   "cell_type": "code",
   "execution_count": null,
   "id": "ebc40b39-b6f7-48b0-8027-5ba7d385e12b",
   "metadata": {},
   "outputs": [],
   "source": [
    "complete_pipeline('./user/artial/','04015',true_label='artial')"
   ]
  },
  {
   "cell_type": "code",
   "execution_count": null,
   "id": "d426fb72-38d3-4c5c-94c5-f9a6b1abef46",
   "metadata": {},
   "outputs": [],
   "source": [
    "complete_pipeline('./user/artial/','04043',true_label='artial')"
   ]
  },
  {
   "cell_type": "code",
   "execution_count": null,
   "id": "2ed64f31-22f0-4fdc-b7b1-663e27507a02",
   "metadata": {},
   "outputs": [],
   "source": [
    "complete_pipeline('./user/artial/','04936',true_label='artial')"
   ]
  },
  {
   "cell_type": "code",
   "execution_count": null,
   "id": "4cae5a6f-08a8-49ac-82c5-c9276ed69497",
   "metadata": {},
   "outputs": [],
   "source": [
    "complete_pipeline('./user/artial/','05091',true_label='artial')"
   ]
  },
  {
   "cell_type": "code",
   "execution_count": null,
   "id": "853dfc13-851e-401e-b747-d70d1b1b3ddb",
   "metadata": {},
   "outputs": [],
   "source": [
    "complete_pipeline('./user/arrhy/','220',true_label='arrhythmia')"
   ]
  },
  {
   "cell_type": "code",
   "execution_count": null,
   "id": "168f1729-2498-4b46-ac6b-ce372fd0b82e",
   "metadata": {},
   "outputs": [],
   "source": [
    "complete_pipeline('./user/arrhy/','215',true_label='arrhythmia')"
   ]
  },
  {
   "cell_type": "code",
   "execution_count": null,
   "id": "2445c2dd-ddf9-43f5-a2a6-31df170df973",
   "metadata": {},
   "outputs": [],
   "source": [
    "complete_pipeline('./user/arrhy/','228',true_label='arrhythmia')"
   ]
  },
  {
   "cell_type": "code",
   "execution_count": null,
   "id": "3e3dc979-11d4-4831-a168-da7070324506",
   "metadata": {},
   "outputs": [],
   "source": [
    "complete_pipeline('./user/arrhy/','219',true_label='arrhythmia')"
   ]
  },
  {
   "cell_type": "code",
   "execution_count": null,
   "id": "0f4586df-5a06-4f91-ad97-f6098e60121b",
   "metadata": {},
   "outputs": [],
   "source": [
    "complete_pipeline('./user/arrhy/','203',true_label='arrhythmia')"
   ]
  },
  {
   "cell_type": "code",
   "execution_count": null,
   "id": "8a501c2c-6029-4706-9bd4-0fef5104b912",
   "metadata": {},
   "outputs": [],
   "source": []
  },
  {
   "cell_type": "code",
   "execution_count": null,
   "id": "dde1a4fe-f0be-4f4b-b6cb-23c37e67d3c1",
   "metadata": {},
   "outputs": [],
   "source": []
  },
  {
   "cell_type": "code",
   "execution_count": null,
   "id": "4c219e0e-ee90-426e-960c-7a3c21342c84",
   "metadata": {},
   "outputs": [],
   "source": []
  }
 ],
 "metadata": {
  "kernelspec": {
   "display_name": "Python 3 (ipykernel)",
   "language": "python",
   "name": "python3"
  },
  "language_info": {
   "codemirror_mode": {
    "name": "ipython",
    "version": 3
   },
   "file_extension": ".py",
   "mimetype": "text/x-python",
   "name": "python",
   "nbconvert_exporter": "python",
   "pygments_lexer": "ipython3",
   "version": "3.12.4"
  }
 },
 "nbformat": 4,
 "nbformat_minor": 5
}
